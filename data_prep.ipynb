{
 "cells": [
  {
   "cell_type": "code",
   "execution_count": 14,
   "metadata": {},
   "outputs": [
    {
     "name": "stdout",
     "output_type": "stream",
     "text": [
      "1896\n",
      "    Rank            NOC  Gold  Silver  Bronze  Total  Year\n",
      "0      1  United States    11       7       2     20  1896\n",
      "1      2         Greece    10      18      19     47  1896\n",
      "2      3        Germany     6       5       2     13  1896\n",
      "3      4         France     5       4       2     11  1896\n",
      "4      5  Great Britain     2       3       2      7  1896\n",
      "5      6        Hungary     2       1       3      6  1896\n",
      "6      7        Austria     2       1       2      5  1896\n",
      "7      8      Australia     2       0       0      2  1896\n",
      "8      9        Denmark     1       2       3      6  1896\n",
      "9     10    Switzerland     1       2       0      3  1896\n",
      "10    11     Mixed team     1       0       1      2  1896\n",
      "    Rank            NOC      Gold    Silver    Bronze     Total  Year\n",
      "0      1  United States  0.255814  0.162791  0.055556  0.163934  1896\n",
      "1      2         Greece  0.232558  0.418605  0.527778  0.385246  1896\n",
      "2      3        Germany  0.139535  0.116279  0.055556  0.106557  1896\n",
      "3      4         France  0.116279  0.093023  0.055556  0.090164  1896\n",
      "4      5  Great Britain  0.046512  0.069767  0.055556  0.057377  1896\n",
      "5      6        Hungary  0.046512  0.023256  0.083333  0.049180  1896\n",
      "6      7        Austria  0.046512  0.023256  0.055556  0.040984  1896\n",
      "7      8      Australia  0.046512  0.000000  0.000000  0.016393  1896\n",
      "8      9        Denmark  0.023256  0.046512  0.083333  0.049180  1896\n",
      "9     10    Switzerland  0.023256  0.046512  0.000000  0.024590  1896\n",
      "10    11     Mixed team  0.023256  0.000000  0.027778  0.016393  1896\n"
     ]
    },
    {
     "name": "stderr",
     "output_type": "stream",
     "text": [
      "/var/folders/qv/f4vv6vrd3qn96rx6p0mvm4dc0000gn/T/ipykernel_6711/637145721.py:12: SettingWithCopyWarning: \n",
      "A value is trying to be set on a copy of a slice from a DataFrame.\n",
      "Try using .loc[row_indexer,col_indexer] = value instead\n",
      "\n",
      "See the caveats in the documentation: https://pandas.pydata.org/pandas-docs/stable/user_guide/indexing.html#returning-a-view-versus-a-copy\n",
      "  year_medal_table['Gold'] = year_medal_table['Gold'] / year_medal_table['Gold'].sum()\n",
      "/var/folders/qv/f4vv6vrd3qn96rx6p0mvm4dc0000gn/T/ipykernel_6711/637145721.py:13: SettingWithCopyWarning: \n",
      "A value is trying to be set on a copy of a slice from a DataFrame.\n",
      "Try using .loc[row_indexer,col_indexer] = value instead\n",
      "\n",
      "See the caveats in the documentation: https://pandas.pydata.org/pandas-docs/stable/user_guide/indexing.html#returning-a-view-versus-a-copy\n",
      "  year_medal_table['Silver'] = year_medal_table['Silver'] / year_medal_table['Silver'].sum()\n",
      "/var/folders/qv/f4vv6vrd3qn96rx6p0mvm4dc0000gn/T/ipykernel_6711/637145721.py:14: SettingWithCopyWarning: \n",
      "A value is trying to be set on a copy of a slice from a DataFrame.\n",
      "Try using .loc[row_indexer,col_indexer] = value instead\n",
      "\n",
      "See the caveats in the documentation: https://pandas.pydata.org/pandas-docs/stable/user_guide/indexing.html#returning-a-view-versus-a-copy\n",
      "  year_medal_table['Bronze'] = year_medal_table['Bronze'] / year_medal_table['Bronze'].sum()\n",
      "/var/folders/qv/f4vv6vrd3qn96rx6p0mvm4dc0000gn/T/ipykernel_6711/637145721.py:15: SettingWithCopyWarning: \n",
      "A value is trying to be set on a copy of a slice from a DataFrame.\n",
      "Try using .loc[row_indexer,col_indexer] = value instead\n",
      "\n",
      "See the caveats in the documentation: https://pandas.pydata.org/pandas-docs/stable/user_guide/indexing.html#returning-a-view-versus-a-copy\n",
      "  year_medal_table['Total'] = year_medal_table['Total'] / year_medal_table['Total'].sum()\n"
     ]
    }
   ],
   "source": [
    "import pandas as pd\n",
    "medal_counts = pd.read_csv('2025_Problem_C_Data/summerOly_medal_counts.csv', encoding=\"cp1252\")\n",
    "\n",
    "unique_years = medal_counts['Year'].unique()\n",
    "\n",
    "for year in unique_years:\n",
    "    print(year)\n",
    "    year_medal_table = medal_counts[medal_counts['Year'] == year]\n",
    "    print(year_medal_table)\n",
    "    \n",
    "    # Normalize the Gold, Silver, Bronze and Total columns with their sum\n",
    "    year_medal_table['Gold'] = year_medal_table['Gold'] / year_medal_table['Gold'].sum()\n",
    "    year_medal_table['Silver'] = year_medal_table['Silver'] / year_medal_table['Silver'].sum()\n",
    "    year_medal_table['Bronze'] = year_medal_table['Bronze'] / year_medal_table['Bronze'].sum()\n",
    "    year_medal_table['Total'] = year_medal_table['Total'] / year_medal_table['Total'].sum()\n",
    "    print(year_medal_table)\n",
    "    \n",
    "    \n",
    "    \n",
    "    break"
   ]
  },
  {
   "cell_type": "code",
   "execution_count": 16,
   "metadata": {},
   "outputs": [
    {
     "data": {
      "text/html": [
       "<div>\n",
       "<style scoped>\n",
       "    .dataframe tbody tr th:only-of-type {\n",
       "        vertical-align: middle;\n",
       "    }\n",
       "\n",
       "    .dataframe tbody tr th {\n",
       "        vertical-align: top;\n",
       "    }\n",
       "\n",
       "    .dataframe thead th {\n",
       "        text-align: right;\n",
       "    }\n",
       "</style>\n",
       "<table border=\"1\" class=\"dataframe\">\n",
       "  <thead>\n",
       "    <tr style=\"text-align: right;\">\n",
       "      <th></th>\n",
       "      <th>ï»¿Year</th>\n",
       "      <th>Host</th>\n",
       "    </tr>\n",
       "  </thead>\n",
       "  <tbody>\n",
       "    <tr>\n",
       "      <th>0</th>\n",
       "      <td>1896</td>\n",
       "      <td>Â Athens,Â Greece</td>\n",
       "    </tr>\n",
       "    <tr>\n",
       "      <th>1</th>\n",
       "      <td>1900</td>\n",
       "      <td>Â Paris,Â France</td>\n",
       "    </tr>\n",
       "    <tr>\n",
       "      <th>2</th>\n",
       "      <td>1904</td>\n",
       "      <td>Â St. Louis,Â United States</td>\n",
       "    </tr>\n",
       "    <tr>\n",
       "      <th>3</th>\n",
       "      <td>1908</td>\n",
       "      <td>Â London,Â United Kingdom</td>\n",
       "    </tr>\n",
       "    <tr>\n",
       "      <th>4</th>\n",
       "      <td>1912</td>\n",
       "      <td>Â Stockholm,Â Sweden</td>\n",
       "    </tr>\n",
       "  </tbody>\n",
       "</table>\n",
       "</div>"
      ],
      "text/plain": [
       "   ï»¿Year                         Host\n",
       "0     1896            Â Athens,Â Greece\n",
       "1     1900             Â Paris,Â France\n",
       "2     1904  Â St. Louis,Â United States\n",
       "3     1908    Â London,Â United Kingdom\n",
       "4     1912         Â Stockholm,Â Sweden"
      ]
     },
     "execution_count": 16,
     "metadata": {},
     "output_type": "execute_result"
    }
   ],
   "source": [
    "hosts = pd.read_csv(\"2025_Problem_C_Data/summerOly_hosts.csv\", encoding=\"cp1252\")\n",
    "hosts.head()"
   ]
  },
  {
   "cell_type": "code",
   "execution_count": 21,
   "metadata": {},
   "outputs": [
    {
     "name": "stdout",
     "output_type": "stream",
     "text": [
      "Conversion completed. The file has been saved as 2025_Problem_C_Data/summerOly_programs_utf8.csv\n",
      "Conversion completed. The file has been saved as 2025_Problem_C_Data/summerOly_hosts_utf8.csv\n",
      "Conversion completed. The file has been saved as 2025_Problem_C_Data/summerOly_medal_counts_utf8.csv\n",
      "Conversion completed. The file has been saved as 2025_Problem_C_Data/summerOly_athletes_utf8.csv\n"
     ]
    }
   ],
   "source": [
    "def convert_cp1252_to_utf8(input_file, output_file):\n",
    "    \"\"\"\n",
    "    Converts a file from cp1252 encoding to utf-8.\n",
    "    Replaces unrecognized or problematic characters with a space.\n",
    "\n",
    "    Args:\n",
    "        input_file (str): Path to the input file in cp1252 encoding.\n",
    "        output_file (str): Path to save the output file in utf-8 encoding.\n",
    "    \"\"\"\n",
    "    try:\n",
    "        # Read the input file with cp1252 encoding\n",
    "        with open(input_file, 'r', encoding='cp1252', errors='replace') as infile:\n",
    "            content = infile.read()\n",
    "\n",
    "        # Remove all the non ASCII characters\n",
    "        cleaned_content = ''.join(char for char in content if ord(char) < 128)\n",
    "\n",
    "        # Write to the output file in utf-8 encoding\n",
    "        with open(output_file, 'w', encoding='utf-8') as outfile:\n",
    "            outfile.write(cleaned_content)\n",
    "\n",
    "        print(f\"Conversion completed. The file has been saved as {output_file}\")\n",
    "    except FileNotFoundError:\n",
    "        print(f\"Error: The file {input_file} was not found.\")\n",
    "    except Exception as e:\n",
    "        print(f\"An error occurred: {e}\")\n",
    "\n",
    "convert_cp1252_to_utf8(\"2025_Problem_C_Data/summerOly_programs.csv\", \"2025_Problem_C_Data/summerOly_programs_utf8.csv\")\n",
    "convert_cp1252_to_utf8(\"2025_Problem_C_Data/summerOly_hosts.csv\", \"2025_Problem_C_Data/summerOly_hosts_utf8.csv\")\n",
    "convert_cp1252_to_utf8(\"2025_Problem_C_Data/summerOly_medal_counts.csv\", \"2025_Problem_C_Data/summerOly_medal_counts_utf8.csv\")\n",
    "convert_cp1252_to_utf8(\"2025_Problem_C_Data/summerOly_athletes.csv\", \"2025_Problem_C_Data/summerOly_athletes_utf8.csv\")"
   ]
  }
 ],
 "metadata": {
  "kernelspec": {
   "display_name": "3.8.10",
   "language": "python",
   "name": "python3"
  },
  "language_info": {
   "codemirror_mode": {
    "name": "ipython",
    "version": 3
   },
   "file_extension": ".py",
   "mimetype": "text/x-python",
   "name": "python",
   "nbconvert_exporter": "python",
   "pygments_lexer": "ipython3",
   "version": "3.8.10"
  }
 },
 "nbformat": 4,
 "nbformat_minor": 2
}
